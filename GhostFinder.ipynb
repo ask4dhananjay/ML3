{
  "nbformat": 4,
  "nbformat_minor": 0,
  "metadata": {
    "kernelspec": {
      "display_name": "Python 3",
      "language": "python",
      "name": "python3"
    },
    "language_info": {
      "codemirror_mode": {
        "name": "ipython",
        "version": 3
      },
      "file_extension": ".py",
      "mimetype": "text/x-python",
      "name": "python",
      "nbconvert_exporter": "python",
      "pygments_lexer": "ipython3",
      "version": "3.6.6"
    },
    "colab": {
      "name": "CaptureMonster.ipynb",
      "provenance": [],
      "collapsed_sections": []
    }
  },
  "cells": [
    {
      "cell_type": "markdown",
      "metadata": {
        "id": "3FqsV8lQiGyK",
        "colab_type": "text"
      },
      "source": [
        "# <center><h1><font color=\"blue\">Ghouls, Goblins, and Ghosts</font></h1></center>\n",
        "\n",
        "<center><img src=\"https://storage.googleapis.com/kaggle-competitions/kaggle/5708/media/halloween-660x.png\" height=200 /></center>"
      ]
    },
    {
      "cell_type": "markdown",
      "metadata": {
        "id": "CPQJ7B2jcsF_",
        "colab_type": "text"
      },
      "source": [
        ""
      ]
    },
    {
      "cell_type": "markdown",
      "metadata": {
        "_cell_guid": "b6c4f4e8-7e39-45a7-947f-f53102224e06",
        "_uuid": "18ad5c404b9f95496a3137b0217a223c3d64dfaf",
        "id": "5yuuzn2qiGyN",
        "colab_type": "text"
      },
      "source": [
        "<h1> Abstract</h1>\n",
        "\n",
        "**Ghouls, Goblins, and Ghosts** is a learning level project competition \n",
        "found in Kaggle. <br>\n",
        "From  given train dataset Ghouls_train.csv Classification models are developed and tuned the models to predict the type of monster based on its features as Ghouls, Goblins and Ghosts. \n",
        "<br>\n",
        "Upon building robust classification model from train dataset, I have predicted type of monster for given test datset Ghouls_test.csv and submitted the prediction."
      ]
    },
    {
      "cell_type": "markdown",
      "metadata": {
        "id": "knU5DBsviGyP",
        "colab_type": "text"
      },
      "source": [
        "## Table of Contents\n",
        "\n",
        "1. [Problem Statement](#section1)<br>\n",
        "2. [Data Loading and Description](#section2)<br/>\n",
        "3. [Exploratory data analysis](#section3)\n",
        "4. [Model Creation](#section4)<br/>\n",
        "    - 4.1 [Classifier Comparision]<br/>\n",
        "    - 4.2 [LogisticRegression]<br/>\n",
        "    - 4.3 [AdaBoostClassifer]<br/>\n",
        "    - 4.4 [XGBClassifier](<br/>\n",
        "    - 4.5 [DecisionTree Classifier]<br/>\n",
        "    - 4.6 [Random Forest Classifier]<br/>\n",
        "    - 4.7 [Bagging Classifier]<br/>\n",
        "    - 4.8 [Voting Classifier]<br/>\n",
        "5. [Submit test predictions](#section5)<br/>"
      ]
    },
    {
      "cell_type": "markdown",
      "metadata": {
        "id": "t_IAYSY9iGyR",
        "colab_type": "text"
      },
      "source": [
        "<a id=\"section1\"></a>\n",
        "### 1. Problem Statement\n",
        "\n",
        "In this competition we need to __analyse__ given datset to __classify__ type of the monster based on  its feature __color__, __bone length__, __percentage of soul__, __flesh type__ and __hair length__. <br> \n",
        "Develop __machine learning classification model__ to predict the __monster__ with high accuracy and apply it to test dataset Ghouls_test.csv and submit the  prediction. In this challenge I am classifying monster based on model built using train dataset. \n"
      ]
    },
    {
      "cell_type": "markdown",
      "metadata": {
        "_cell_guid": "9b36c71d-a9fe-41b0-bb14-3805ab662a7e",
        "_uuid": "270acc34e8c6ae2195f3c566b46ed4b03887142c",
        "id": "qA_LZt5hiGyR",
        "colab_type": "text"
      },
      "source": [
        "<a id=\"section2\"></a>\n",
        "### 2. Data Loading and Description"
      ]
    },
    {
      "cell_type": "code",
      "metadata": {
        "_cell_guid": "c0951611-1d3a-4231-b236-f184265b3d17",
        "_uuid": "d25b701d54ac0fe6aa0c406ccb3eabaf0480265a",
        "id": "3N1SNDvFiGyT",
        "colab_type": "code",
        "colab": {}
      },
      "source": [
        "# importing libraires\n",
        "%matplotlib inline                 \n",
        "\n",
        "import pandas as pd                # Implemennts milti-dimensional array and matrices\n",
        "import numpy as np                 # For data manipulation and analysis\n",
        "import matplotlib.pyplot as plt    # Plotting library for Python programming language and it's numerical mathematics extension NumPy\n",
        "import seaborn as sns              # Provides a high level interface for drawing attractive and informative statistical graphics\n",
        "import io                                     # To import datasets.\n",
        "\n",
        "\n",
        "from sklearn.model_selection import train_test_split,GridSearchCV\n",
        "from sklearn import preprocessing\n",
        "from sklearn import metrics\n",
        "from sklearn.preprocessing import StandardScaler\n",
        "from sklearn.preprocessing import LabelEncoder\n",
        "from sklearn.metrics import jaccard_similarity_score\n",
        "from sklearn.metrics import f1_score\n",
        "from sklearn.metrics import log_loss\n",
        "label=LabelEncoder()\n"
      ],
      "execution_count": 0,
      "outputs": []
    },
    {
      "cell_type": "markdown",
      "metadata": {
        "id": "DjbCbz8siGyZ",
        "colab_type": "text"
      },
      "source": [
        "####Load Datasets"
      ]
    },
    {
      "cell_type": "code",
      "metadata": {
        "id": "eCy7ynq-iGyZ",
        "colab_type": "code",
        "colab": {}
      },
      "source": [
        "#from sklearn.preprocessing import Imputer\n",
        "\n",
        "train_df = pd.read_csv(\"https://raw.githubusercontent.com/insaid2018/Term-4/master/Projects/Ghouls_train.csv\")\n",
        "test_df = pd.read_csv(\"https://raw.githubusercontent.com/insaid2018/Term-4/master/Projects/Ghouls_test.csv\")\n"
      ],
      "execution_count": 0,
      "outputs": []
    },
    {
      "cell_type": "markdown",
      "metadata": {
        "id": "oBCeiqq6TP2L",
        "colab_type": "text"
      },
      "source": [
        "Understand the train and test dataset"
      ]
    },
    {
      "cell_type": "code",
      "metadata": {
        "id": "JEBRdlFfTLQ7",
        "colab_type": "code",
        "outputId": "cb7d33bc-ae12-43b1-a5c7-b5ea76618595",
        "colab": {
          "base_uri": "https://localhost:8080/",
          "height": 530
        }
      },
      "source": [
        "print(\"Train Dataset info --\")\n",
        "train_df.info()\n",
        "print(\"\\n\\nTest Dataset info --\")\n",
        "test_df.info()"
      ],
      "execution_count": 4,
      "outputs": [
        {
          "output_type": "stream",
          "text": [
            "Train Dataset info --\n",
            "<class 'pandas.core.frame.DataFrame'>\n",
            "RangeIndex: 371 entries, 0 to 370\n",
            "Data columns (total 7 columns):\n",
            "id               371 non-null int64\n",
            "bone_length      371 non-null float64\n",
            "rotting_flesh    371 non-null float64\n",
            "hair_length      371 non-null float64\n",
            "has_soul         371 non-null float64\n",
            "color            371 non-null object\n",
            "type             371 non-null object\n",
            "dtypes: float64(4), int64(1), object(2)\n",
            "memory usage: 20.4+ KB\n",
            "\n",
            "\n",
            "Test Dataset info --\n",
            "<class 'pandas.core.frame.DataFrame'>\n",
            "RangeIndex: 529 entries, 0 to 528\n",
            "Data columns (total 6 columns):\n",
            "id               529 non-null int64\n",
            "bone_length      529 non-null float64\n",
            "rotting_flesh    529 non-null float64\n",
            "hair_length      529 non-null float64\n",
            "has_soul         529 non-null float64\n",
            "color            529 non-null object\n",
            "dtypes: float64(4), int64(1), object(1)\n",
            "memory usage: 24.9+ KB\n"
          ],
          "name": "stdout"
        }
      ]
    },
    {
      "cell_type": "markdown",
      "metadata": {
        "_cell_guid": "0c01fc62-96a4-44c2-92c2-8c8dcd2bd251",
        "_uuid": "88c1ccccad1ac346a13a1f403184e10c027830aa",
        "id": "lrdPqfZwiGy8",
        "colab_type": "text"
      },
      "source": [
        "<a id=\"section3\"></a>\n",
        "### 3.Exploratory data analysis\n",
        "![](https://s.yimg.com/ny/api/res/1.2/h0cqtHim0GQS9_CbE6lEQw--~A/YXBwaWQ9aGlnaGxhbmRlcjtzbT0xO3c9ODAw/https://media.zenfs.com/en-us/the_quint_389/a074b475d68382fdd721afa1d80fd293)\n",
        "\n",
        "**Exploratory data analysis (EDA)** is an approach to analyzing data sets to summarize their main characteristics, often with visual methods."
      ]
    },
    {
      "cell_type": "code",
      "metadata": {
        "_cell_guid": "35793d15-0af7-4c30-b75e-48da66fa3070",
        "_uuid": "a1213b1abcb5104f65f45693784a76d27ce5adec",
        "id": "PU2Wpn62iGy9",
        "colab_type": "code",
        "outputId": "c529e505-fef1-491c-87ab-837ef9112799",
        "colab": {
          "base_uri": "https://localhost:8080/",
          "height": 297
        }
      },
      "source": [
        "train_df.describe()"
      ],
      "execution_count": 5,
      "outputs": [
        {
          "output_type": "execute_result",
          "data": {
            "text/html": [
              "<div>\n",
              "<style scoped>\n",
              "    .dataframe tbody tr th:only-of-type {\n",
              "        vertical-align: middle;\n",
              "    }\n",
              "\n",
              "    .dataframe tbody tr th {\n",
              "        vertical-align: top;\n",
              "    }\n",
              "\n",
              "    .dataframe thead th {\n",
              "        text-align: right;\n",
              "    }\n",
              "</style>\n",
              "<table border=\"1\" class=\"dataframe\">\n",
              "  <thead>\n",
              "    <tr style=\"text-align: right;\">\n",
              "      <th></th>\n",
              "      <th>id</th>\n",
              "      <th>bone_length</th>\n",
              "      <th>rotting_flesh</th>\n",
              "      <th>hair_length</th>\n",
              "      <th>has_soul</th>\n",
              "    </tr>\n",
              "  </thead>\n",
              "  <tbody>\n",
              "    <tr>\n",
              "      <th>count</th>\n",
              "      <td>371.000000</td>\n",
              "      <td>371.000000</td>\n",
              "      <td>371.000000</td>\n",
              "      <td>371.000000</td>\n",
              "      <td>371.000000</td>\n",
              "    </tr>\n",
              "    <tr>\n",
              "      <th>mean</th>\n",
              "      <td>443.676550</td>\n",
              "      <td>0.434160</td>\n",
              "      <td>0.506848</td>\n",
              "      <td>0.529114</td>\n",
              "      <td>0.471392</td>\n",
              "    </tr>\n",
              "    <tr>\n",
              "      <th>std</th>\n",
              "      <td>263.222489</td>\n",
              "      <td>0.132833</td>\n",
              "      <td>0.146358</td>\n",
              "      <td>0.169902</td>\n",
              "      <td>0.176129</td>\n",
              "    </tr>\n",
              "    <tr>\n",
              "      <th>min</th>\n",
              "      <td>0.000000</td>\n",
              "      <td>0.061032</td>\n",
              "      <td>0.095687</td>\n",
              "      <td>0.134600</td>\n",
              "      <td>0.009402</td>\n",
              "    </tr>\n",
              "    <tr>\n",
              "      <th>25%</th>\n",
              "      <td>205.500000</td>\n",
              "      <td>0.340006</td>\n",
              "      <td>0.414812</td>\n",
              "      <td>0.407428</td>\n",
              "      <td>0.348002</td>\n",
              "    </tr>\n",
              "    <tr>\n",
              "      <th>50%</th>\n",
              "      <td>458.000000</td>\n",
              "      <td>0.434891</td>\n",
              "      <td>0.501552</td>\n",
              "      <td>0.538642</td>\n",
              "      <td>0.466372</td>\n",
              "    </tr>\n",
              "    <tr>\n",
              "      <th>75%</th>\n",
              "      <td>678.500000</td>\n",
              "      <td>0.517223</td>\n",
              "      <td>0.603977</td>\n",
              "      <td>0.647244</td>\n",
              "      <td>0.600610</td>\n",
              "    </tr>\n",
              "    <tr>\n",
              "      <th>max</th>\n",
              "      <td>897.000000</td>\n",
              "      <td>0.817001</td>\n",
              "      <td>0.932466</td>\n",
              "      <td>1.000000</td>\n",
              "      <td>0.935721</td>\n",
              "    </tr>\n",
              "  </tbody>\n",
              "</table>\n",
              "</div>"
            ],
            "text/plain": [
              "               id  bone_length  rotting_flesh  hair_length    has_soul\n",
              "count  371.000000   371.000000     371.000000   371.000000  371.000000\n",
              "mean   443.676550     0.434160       0.506848     0.529114    0.471392\n",
              "std    263.222489     0.132833       0.146358     0.169902    0.176129\n",
              "min      0.000000     0.061032       0.095687     0.134600    0.009402\n",
              "25%    205.500000     0.340006       0.414812     0.407428    0.348002\n",
              "50%    458.000000     0.434891       0.501552     0.538642    0.466372\n",
              "75%    678.500000     0.517223       0.603977     0.647244    0.600610\n",
              "max    897.000000     0.817001       0.932466     1.000000    0.935721"
            ]
          },
          "metadata": {
            "tags": []
          },
          "execution_count": 5
        }
      ]
    },
    {
      "cell_type": "markdown",
      "metadata": {
        "id": "91Yz-mcMYFcu",
        "colab_type": "text"
      },
      "source": [
        "From above info it is clear that dataset is not having missing info and column id is not making any sense to us. Lets plot correlation to see if we can drop any columns which is not relevant"
      ]
    },
    {
      "cell_type": "code",
      "metadata": {
        "id": "17OtMjSMY-tc",
        "colab_type": "code",
        "colab": {}
      },
      "source": [
        "color_le = preprocessing.LabelEncoder()\n",
        "color_le.fit(train_df['color'])\n",
        "train_df['color_int'] = color_le.transform(train_df['color'])"
      ],
      "execution_count": 0,
      "outputs": []
    },
    {
      "cell_type": "code",
      "metadata": {
        "_cell_guid": "befcb476-181a-4a91-9f8e-6dc7d06055ac",
        "_uuid": "ac2c72a7c2033dd3f61a786adca6f15fea2a3eeb",
        "id": "PUkgK83kiGy_",
        "colab_type": "code",
        "outputId": "933d85f4-4a22-4105-9718-11a9c23b9fda",
        "colab": {
          "base_uri": "https://localhost:8080/",
          "height": 358
        }
      },
      "source": [
        "sns.heatmap(train_df.corr(), annot=True,cmap=\"PiYG\")\n",
        "plt.title(\"Correlations Among Features\", fontsize = 20)"
      ],
      "execution_count": 7,
      "outputs": [
        {
          "output_type": "execute_result",
          "data": {
            "text/plain": [
              "Text(0.5, 1, 'Correlations Among Features')"
            ]
          },
          "metadata": {
            "tags": []
          },
          "execution_count": 7
        },
        {
          "output_type": "display_data",
          "data": {
            "image/png": "[encoded data removed]",
            "text/plain": [
              "<Figure size 432x288 with 2 Axes>"
            ]
          },
          "metadata": {
            "tags": []
          }
        }
      ]
    },
    {
      "cell_type": "markdown",
      "metadata": {
        "id": "jjO98IKYaQwz",
        "colab_type": "text"
      },
      "source": [
        "From the corr() plot above we can drop __color__ and __id__ feature from both train and test datasets as they are not significant for predicting monster"
      ]
    },
    {
      "cell_type": "code",
      "metadata": {
        "id": "g71s8vL8axGL",
        "colab_type": "code",
        "colab": {}
      },
      "source": [
        "train_df = train_df.drop(['id'], axis = 1)\n",
        "test_df = test_df.drop(['id'], axis = 1)\n",
        "\n",
        "train_df = train_df.drop(['color_int'], axis = 1)\n",
        "train_df = train_df.drop(['color'], axis = 1)\n",
        "test_df = test_df.drop(['color'], axis = 1)"
      ],
      "execution_count": 0,
      "outputs": []
    },
    {
      "cell_type": "markdown",
      "metadata": {
        "id": "Is8i6_k0cNcT",
        "colab_type": "text"
      },
      "source": [
        "Now lets confirm if we have __unique monters__ and there is __no spell mistake__ which affects our prediction model otherwise."
      ]
    },
    {
      "cell_type": "code",
      "metadata": {
        "id": "tgDOCfxhcMXS",
        "colab_type": "code",
        "outputId": "a65b26ec-8057-4acc-b67c-0605196da381",
        "colab": {
          "base_uri": "https://localhost:8080/",
          "height": 36
        }
      },
      "source": [
        "print(np.sort(train_df['type'].unique()))"
      ],
      "execution_count": 9,
      "outputs": [
        {
          "output_type": "stream",
          "text": [
            "['Ghost' 'Ghoul' 'Goblin']\n"
          ],
          "name": "stdout"
        }
      ]
    },
    {
      "cell_type": "markdown",
      "metadata": {
        "id": "ycm11i23cwmL",
        "colab_type": "text"
      },
      "source": [
        "This Confirms we have unique values in our target variable __type__"
      ]
    },
    {
      "cell_type": "markdown",
      "metadata": {
        "_cell_guid": "17826e7f-e38c-4758-910a-5592984403d8",
        "_uuid": "5805fd4ecfbedcb62dbede8bc0cb1396476b4b77",
        "id": "XQDQKoLmiG0W",
        "colab_type": "text"
      },
      "source": [
        "<a id=\"section4\"></a>\n",
        "### 4. Model Creation"
      ]
    },
    {
      "cell_type": "markdown",
      "metadata": {
        "_cell_guid": "2398e3cd-fee8-4caa-a87c-acc476cafd45",
        "_uuid": "ac39a9dfe0a93e89a916b9e22589ef4d62deb190",
        "id": "afgKRuwviG0X",
        "colab_type": "text"
      },
      "source": [
        " I will train the data with the following models:\n",
        "- Logistic Regression\n",
        "- Gaussian Naive Bayes\n",
        "- Support Vector Machines\n",
        "- Decision Tree Classifier\n",
        "- Random Forest Classifier\n",
        "- K-Nearest Neighbors(KNN)\n",
        "- AdaBoost Classifier\n",
        "- LDA Classifier\n",
        "- Gradient Boosting Classifier\n",
        "- XGB Classifier\n",
        " \n"
      ]
    },
    {
      "cell_type": "code",
      "metadata": {
        "_cell_guid": "1334fb63-e866-4e9d-8f38-d1e28d6e990d",
        "_uuid": "41fa09a4ac77a434a77cae3aaa0f87b6ee375823",
        "id": "C0jentByiG0Y",
        "colab_type": "code",
        "colab": {}
      },
      "source": [
        "X = train_df.drop('type', 1)\n",
        "y = train_df['type']"
      ],
      "execution_count": 0,
      "outputs": []
    },
    {
      "cell_type": "markdown",
      "metadata": {
        "_cell_guid": "25e07e4b-968d-4eab-8d25-6e6d6cefbb9e",
        "_uuid": "08760fea0a8a0fb50e7304a5ba47a888540ca3c6",
        "id": "vL9OxOn8iG0Z",
        "colab_type": "text"
      },
      "source": [
        "\n",
        "#### Classifier Comparision\n",
        "\n",
        "By Classifier Comparison we choose which model best for the given data."
      ]
    },
    {
      "cell_type": "code",
      "metadata": {
        "_cell_guid": "6bb0b633-7e74-44a7-a3b3-41b671cfa3ca",
        "_uuid": "0c0dff8ade89a5dd57a3ac940911bb41b7072914",
        "id": "c7lEEoKpiG0a",
        "colab_type": "code",
        "colab": {}
      },
      "source": [
        "import matplotlib.pyplot as plt\n",
        "import seaborn as sns\n",
        "from sklearn.model_selection import StratifiedShuffleSplit,train_test_split\n",
        "from sklearn.metrics import accuracy_score, log_loss\n",
        "from sklearn.neighbors import KNeighborsClassifier\n",
        "from sklearn import svm\n",
        "from sklearn.tree import DecisionTreeClassifier\n",
        "from sklearn.ensemble import RandomForestClassifier,AdaBoostClassifier,GradientBoostingClassifier\n",
        "from sklearn.naive_bayes import GaussianNB\n",
        "from sklearn.linear_model import LogisticRegression\n",
        "from xgboost import XGBClassifier\n",
        "from sklearn.discriminant_analysis import LinearDiscriminantAnalysis, QuadraticDiscriminantAnalysis\n",
        "\n",
        "classifiers = [\n",
        "    LogisticRegression(),\n",
        "    GaussianNB(),\n",
        "    svm.SVC(probability=True),\n",
        "    DecisionTreeClassifier(),\n",
        "    RandomForestClassifier(),\n",
        "    KNeighborsClassifier(3),\n",
        "    AdaBoostClassifier(),\n",
        "    LinearDiscriminantAnalysis(),\n",
        "    GradientBoostingClassifier(),\n",
        "    XGBClassifier()\n",
        "    ]\n",
        "    \n",
        "log_cols = [\"Classifier\", \"Accuracy\"]\n",
        "log= pd.DataFrame(columns=log_cols)\n"
      ],
      "execution_count": 0,
      "outputs": []
    },
    {
      "cell_type": "code",
      "metadata": {
        "_cell_guid": "d5baaf6f-b931-4052-bdd8-6c63e27bee32",
        "_uuid": "89d4751cf93bc58e6760cc9a8005df7a1a059760",
        "id": "XLcoltcFiG0d",
        "colab_type": "code",
        "colab": {}
      },
      "source": [
        "from sklearn.metrics import accuracy_score\n",
        "from sklearn.model_selection import train_test_split,StratifiedShuffleSplit\n",
        "\n",
        "SSplit=StratifiedShuffleSplit(test_size=0.2,random_state=8)\n",
        "acc_dict = {}\n",
        "\n",
        "for train_index,test_index in SSplit.split(X,y):\n",
        "  X_train,X_test=X.iloc[train_index],X.iloc[test_index]\n",
        "  y_train,y_test=y.iloc[train_index],y.iloc[test_index]\n",
        "\n",
        "  for clf in classifiers:\n",
        "    name = clf.__class__.__name__\n",
        "    clf.fit(X_train,y_train)\n",
        "    predict=clf.predict(X_test)\n",
        "    acc=accuracy_score(y_test,predict)\n",
        "    if name in acc_dict:\n",
        "      acc_dict[name]+=acc\n",
        "    else:\n",
        "      acc_dict[name]=acc\n"
      ],
      "execution_count": 0,
      "outputs": []
    },
    {
      "cell_type": "code",
      "metadata": {
        "_cell_guid": "ef001bec-a26a-4f4f-852d-d28886ccd9e6",
        "_uuid": "8814357358d1eb8aded51d2805ed9702655915fa",
        "id": "zM5bpbp6iG0g",
        "colab_type": "code",
        "outputId": "c49cb1a6-d25e-46a4-9501-906f9edc3ef2",
        "colab": {
          "base_uri": "https://localhost:8080/",
          "height": 437
        }
      },
      "source": [
        "\n",
        "log['Classifier']=acc_dict.keys()\n",
        "log['Accuracy']=acc_dict.values()\n",
        "log.set_index([[0,1,2,3,4,5,6,7,8,9]])\n",
        "%matplotlib inline\n",
        "sns.set_color_codes(\"muted\")\n",
        "ax=plt.subplots(figsize=(10,6))\n",
        "ax=sns.barplot(y='Classifier',x='Accuracy',data=log,color='b')\n",
        "ax.set_xlabel('Accuracy',fontsize=20)\n",
        "plt.ylabel('Classifier',fontsize=20)\n",
        "plt.grid(color='r', linestyle='-', linewidth=0.1)\n",
        "plt.title('Classifier Accuracy',fontsize=20)\n"
      ],
      "execution_count": 13,
      "outputs": [
        {
          "output_type": "execute_result",
          "data": {
            "text/plain": [
              "Text(0.5, 1.0, 'Classifier Accuracy')"
            ]
          },
          "metadata": {
            "tags": []
          },
          "execution_count": 13
        },
        {
          "output_type": "display_data",
          "data": {
            "image/png": "[encoded data removed]",
            "text/plain": [
              "<Figure size 720x432 with 1 Axes>"
            ]
          },
          "metadata": {
            "tags": []
          }
        }
      ]
    },
    {
      "cell_type": "markdown",
      "metadata": {
        "_cell_guid": "4d2380f3-33a9-4565-8471-0327ac33d7c6",
        "_uuid": "6985746450177e2b1b1616532987e63c3cb26c2d",
        "id": "ou_0rOtfiG0m",
        "colab_type": "text"
      },
      "source": [
        "From the above barplot, we can clearly see that the following classifiers are good, considering > 70% accuracy- And we are using below algorithms from where resultrs are derived from train dataset to predict monster in givin test dataset\n",
        "\n",
        "- Logistic Regression\n",
        "- Support Vector Machine\n",
        "- GaussianNB\n",
        "- Random Forest Classifier\n",
        "- K Nearest Neighbour (KNN)\n",
        "- Linear Discriminant Analysis\n",
        "- GradientBoostingClassifier \n",
        "- XGB Classifier"
      ]
    },
    {
      "cell_type": "markdown",
      "metadata": {
        "id": "3Bz9Zd_fiG0n",
        "colab_type": "text"
      },
      "source": [
        "__Time to train every model with further hyperparameter tuning extension__"
      ]
    },
    {
      "cell_type": "code",
      "metadata": {
        "_cell_guid": "a33d93d7-bafa-42cf-8319-de9a61233c36",
        "_uuid": "76b79e031843f5625ef82c4f7b36450504a8ee68",
        "id": "_dPCfrFpiG0o",
        "colab_type": "code",
        "colab": {}
      },
      "source": [
        "## Necessary modules for creating models. \n",
        "from sklearn.tree import DecisionTreeClassifier\n",
        "from sklearn.model_selection import cross_val_score, StratifiedKFold\n",
        "from sklearn.linear_model import LogisticRegression\n",
        "from sklearn.metrics import mean_squared_error\n",
        "from sklearn.ensemble import BaggingClassifier\n",
        "from sklearn.metrics import accuracy_score,classification_report, precision_recall_curve, confusion_matrix"
      ],
      "execution_count": 0,
      "outputs": []
    },
    {
      "cell_type": "markdown",
      "metadata": {
        "_cell_guid": "52882ff1-4517-47a9-ac97-3ca38440e3fc",
        "_uuid": "d2b06234512bb5cd32d8a12243587634c4b5f0b7",
        "id": "qPR-MTt8iG0p",
        "colab_type": "text"
      },
      "source": [
        "**Scaling features**"
      ]
    },
    {
      "cell_type": "code",
      "metadata": {
        "_cell_guid": "ab1c0a94-8acc-4faf-937d-12b1c73bfed9",
        "_uuid": "dfccb3c1f53070d126930df8382f540877db9d59",
        "id": "Fd_Cs3vIiG0r",
        "colab_type": "code",
        "colab": {
          "base_uri": "https://localhost:8080/",
          "height": 36
        },
        "outputId": "f1d925d2-8b20-419a-bbaa-706de338292a"
      },
      "source": [
        "\n",
        "std_scaler = StandardScaler()\n",
        "X = std_scaler.fit_transform(X)\n",
        "testframe = std_scaler.fit_transform(test_df)\n",
        "testframe.shape\n"
      ],
      "execution_count": 16,
      "outputs": [
        {
          "output_type": "execute_result",
          "data": {
            "text/plain": [
              "(529, 4)"
            ]
          },
          "metadata": {
            "tags": []
          },
          "execution_count": 16
        }
      ]
    },
    {
      "cell_type": "markdown",
      "metadata": {
        "_cell_guid": "a600a9c3-6f10-4dc7-aea2-a325b98fd08d",
        "_kg_hide-input": true,
        "_kg_hide-output": true,
        "_uuid": "6db481bb17be157f42d582cf085be7b66fdaaab1",
        "collapsed": true,
        "id": "MYf43mJbiG0u",
        "colab_type": "text"
      },
      "source": [
        "**GridSearch**\n",
        "\n",
        "Using the GridSearch ,Lets find out the most suitable parameter/hyperparmeter which gives the best result.\n"
      ]
    },
    {
      "cell_type": "code",
      "metadata": {
        "_cell_guid": "11cd4228-401e-4d1a-9b0a-5813291fae8d",
        "_uuid": "90d3f4693a54a9ade722ee3231561959a9fe2331",
        "id": "qj-dDaFTiG0y",
        "colab_type": "code",
        "colab": {}
      },
      "source": [
        "from sklearn.model_selection import train_test_split\n",
        "from sklearn.metrics import accuracy_score\n",
        "X_train,X_test,y_train,y_test=train_test_split(X,y,test_size=0.20,random_state=1000)"
      ],
      "execution_count": 0,
      "outputs": []
    },
    {
      "cell_type": "markdown",
      "metadata": {
        "_cell_guid": "ee20340f-eaae-46a4-86cf-d5205e163b3a",
        "_uuid": "a60288b7f58056b6cf5a2b78aee9c97a844d2548",
        "collapsed": true,
        "id": "QDf8V3_oiG00",
        "colab_type": "text"
      },
      "source": [
        "\n",
        "#### LogisticRegression"
      ]
    },
    {
      "cell_type": "code",
      "metadata": {
        "_cell_guid": "a1c2c093-3c2f-4c8a-8250-e1cf7a1db2a2",
        "_uuid": "b693d9183d9b6df6f64b488bcae0e64945ae3fb3",
        "id": "6TBpwLTHiG00",
        "colab_type": "code",
        "outputId": "da5405cd-b4ee-4660-d55e-e2a647a99e1f",
        "colab": {
          "base_uri": "https://localhost:8080/",
          "height": 189
        }
      },
      "source": [
        "from sklearn.model_selection import cross_val_score\n",
        "from sklearn.model_selection import StratifiedKFold\n",
        "from sklearn.metrics import precision_score,recall_score,confusion_matrix\n",
        "logreg = LogisticRegression(solver='liblinear', penalty='l1')\n",
        "logreg.fit(X_train,y_train)\n",
        "predict=logreg.predict(X_test)\n",
        "print(accuracy_score(y_test,predict))\n",
        "print(confusion_matrix(y_test,predict))\n",
        "print(\"jaccard_similarity_score\" , jaccard_similarity_score(y_test,predict))\n",
        "print(\"f1_score\" , f1_score(y_test,predict, average='weighted'))"
      ],
      "execution_count": 19,
      "outputs": [
        {
          "output_type": "stream",
          "text": [
            "0.7466666666666667\n",
            "[[22  0  5]\n",
            " [ 0 18  5]\n",
            " [ 5  4 16]]\n",
            "jaccard_similarity_score 0.7466666666666667\n",
            "f1_score 0.7478169934640524\n"
          ],
          "name": "stdout"
        },
        {
          "output_type": "stream",
          "text": [
            "/usr/local/lib/python3.6/dist-packages/sklearn/metrics/_classification.py:664: FutureWarning: jaccard_similarity_score has been deprecated and replaced with jaccard_score. It will be removed in version 0.23. This implementation has surprising behavior for binary and multiclass classification tasks.\n",
            "  FutureWarning)\n"
          ],
          "name": "stderr"
        }
      ]
    },
    {
      "cell_type": "markdown",
      "metadata": {
        "_cell_guid": "3fceec2e-1516-4207-a51c-24945e3a8b12",
        "_uuid": "63766bc3dca8582e82a272440c1d36b560256da9",
        "collapsed": true,
        "id": "bKihvWhniG01",
        "colab_type": "text"
      },
      "source": [
        "**Grid Search on Logistic Regression**"
      ]
    },
    {
      "cell_type": "code",
      "metadata": {
        "_cell_guid": "7a6cdeba-c26e-4fc2-9fbc-8dd7a96816e9",
        "_uuid": "1184044b8c06ca04cf1d576ba2605d346988a76c",
        "id": "rCOzDwZBiG03",
        "colab_type": "code",
        "colab": {}
      },
      "source": [
        "C_vals = [0.0001, 0.001, 0.01, 0.1,0.13,0.2, .15, .25, .275, .33, 0.5, .66, 0.75, 1.0, 2.5, 4.0,4.5,5.0,5.1,5.5,6.0, 10.0, 100.0, 1000.0]\n",
        "penalties = ['l1','l2']\n",
        "\n",
        "param = {'penalty': penalties, 'C': C_vals, }\n",
        "grid = GridSearchCV(logreg, param,verbose=False, cv = StratifiedKFold(n_splits=5,random_state=10,shuffle=True), n_jobs=1,scoring='accuracy')"
      ],
      "execution_count": 0,
      "outputs": []
    },
    {
      "cell_type": "code",
      "metadata": {
        "_cell_guid": "46449a22-946b-429c-9de3-fa1553491668",
        "_uuid": "317c2ebd79ea95a7b2ba6cafe116486ceca7b419",
        "id": "0ryV2X2jiG05",
        "colab_type": "code",
        "outputId": "233d269f-c524-49fe-daf0-bb623daf6d63",
        "colab": {
          "base_uri": "https://localhost:8080/",
          "height": 150
        }
      },
      "source": [
        "grid.fit(X_train,y_train)\n",
        "print (grid.best_params_)\n",
        "print (grid.best_score_)\n",
        "print(grid.best_estimator_)"
      ],
      "execution_count": 21,
      "outputs": [
        {
          "output_type": "stream",
          "text": [
            "{'C': 4.0, 'penalty': 'l1'}\n",
            "0.7603389830508475\n",
            "LogisticRegression(C=4.0, class_weight=None, dual=False, fit_intercept=True,\n",
            "                   intercept_scaling=1, l1_ratio=None, max_iter=100,\n",
            "                   multi_class='auto', n_jobs=None, penalty='l1',\n",
            "                   random_state=None, solver='liblinear', tol=0.0001, verbose=0,\n",
            "                   warm_start=False)\n"
          ],
          "name": "stdout"
        }
      ]
    },
    {
      "cell_type": "code",
      "metadata": {
        "_cell_guid": "10c20afa-d6b5-4cf5-a455-0e917585a34d",
        "_uuid": "35959515e3f1988beea63b8f0609de548c35c293",
        "id": "SprBIfxdiG1B",
        "colab_type": "code",
        "outputId": "8a948781-178a-4cc4-8d3b-f18908548dbf",
        "colab": {
          "base_uri": "https://localhost:8080/",
          "height": 189
        }
      },
      "source": [
        "logreg_grid = LogisticRegression(penalty='l2')\n",
        "logreg_grid.fit(X_train,y_train)\n",
        "y_pred = logreg_grid.predict(X_test)\n",
        "logreg_accy = round(accuracy_score(y_test, y_pred), 3)\n",
        "print (logreg_accy)\n",
        "print(confusion_matrix(y_test,y_pred))\n",
        "print(\"jaccard_similarity_score\" , jaccard_similarity_score(y_test,y_pred))\n",
        "print(\"f1_score\" , f1_score(y_test,y_pred, average='weighted'))"
      ],
      "execution_count": 22,
      "outputs": [
        {
          "output_type": "stream",
          "text": [
            "0.76\n",
            "[[21  0  6]\n",
            " [ 0 19  4]\n",
            " [ 3  5 17]]\n",
            "jaccard_similarity_score 0.76\n",
            "f1_score 0.7623625685953597\n"
          ],
          "name": "stdout"
        },
        {
          "output_type": "stream",
          "text": [
            "/usr/local/lib/python3.6/dist-packages/sklearn/metrics/_classification.py:664: FutureWarning: jaccard_similarity_score has been deprecated and replaced with jaccard_score. It will be removed in version 0.23. This implementation has surprising behavior for binary and multiclass classification tasks.\n",
            "  FutureWarning)\n"
          ],
          "name": "stderr"
        }
      ]
    },
    {
      "cell_type": "markdown",
      "metadata": {
        "id": "YTVa_VeiaFuc",
        "colab_type": "text"
      },
      "source": [
        "\n",
        "#### Gausian NB"
      ]
    },
    {
      "cell_type": "code",
      "metadata": {
        "id": "aSETC-FOaCm7",
        "colab_type": "code",
        "colab": {
          "base_uri": "https://localhost:8080/",
          "height": 189
        },
        "outputId": "8e2c990d-36fd-4b71-d671-d1d30dbe85b1"
      },
      "source": [
        "gausianNB = GaussianNB()\n",
        "gausianNB.fit(X_train,y_train)\n",
        "predict = gausianNB.predict(X_test)\n",
        "\n",
        "gausian_acccy = accuracy_score(y_test, y_pred)\n",
        "print (gausian_acccy)\n",
        "print(confusion_matrix(y_test,y_pred))\n",
        "print(\"jaccard_similarity_score\" , jaccard_similarity_score(y_test,predict))\n",
        "print(\"f1_score\" , f1_score(y_test,predict, average='weighted'))"
      ],
      "execution_count": 23,
      "outputs": [
        {
          "output_type": "stream",
          "text": [
            "0.76\n",
            "[[21  0  6]\n",
            " [ 0 19  4]\n",
            " [ 3  5 17]]\n",
            "jaccard_similarity_score 0.7733333333333333\n",
            "f1_score 0.7763638122883406\n"
          ],
          "name": "stdout"
        },
        {
          "output_type": "stream",
          "text": [
            "/usr/local/lib/python3.6/dist-packages/sklearn/metrics/_classification.py:664: FutureWarning: jaccard_similarity_score has been deprecated and replaced with jaccard_score. It will be removed in version 0.23. This implementation has surprising behavior for binary and multiclass classification tasks.\n",
            "  FutureWarning)\n"
          ],
          "name": "stderr"
        }
      ]
    },
    {
      "cell_type": "markdown",
      "metadata": {
        "id": "948nrK3qb74m",
        "colab_type": "text"
      },
      "source": [
        "\n",
        "\n",
        "####  Support Vector Machine"
      ]
    },
    {
      "cell_type": "code",
      "metadata": {
        "id": "NrpSAU-rb8dS",
        "colab_type": "code",
        "colab": {
          "base_uri": "https://localhost:8080/",
          "height": 208
        },
        "outputId": "cbf44214-202c-4883-db3e-497fd3edfc3e"
      },
      "source": [
        "from sklearn.svm import SVC\n",
        "\n",
        "# Implement SVM with various kernels and measure the accuracy score for each\n",
        "kernel = ['linear', 'poly', 'rbf', 'sigmoid']\n",
        "SVM_acc_score = np.zeros((len(kernel)))\n",
        "for i,k in enumerate(kernel):\n",
        "    clssfr = SVC(gamma='auto',kernel=k)\n",
        "    clssfr.fit(X_train, y_train)\n",
        "    y_SVM_pred = clssfr.predict(X_test)\n",
        "    SVM_acc_score[i] = accuracy_score(y_test, y_SVM_pred)\n",
        "\n",
        "# Print the accuracy score of each SVM model\n",
        "print(\"SVM's Accuracy: \")\n",
        "for i,k in enumerate(kernel):\n",
        "    print(\"kernel = {} -> acc = {}\".format(k,SVM_acc_score[i]))\n",
        "\n",
        "# Obtain the best performing kernel based on accuracy score on the test set and retrieve the corresponding SVM model\n",
        "i_opt = np.argmax(SVM_acc_score)\n",
        "svm_opt = SVC(gamma='auto',kernel=kernel[i_opt])\n",
        "svm_opt.fit(X_train, y_train)\n",
        "y_SVM_opt_pred = svm_opt.predict(X_test)\n",
        "print(\"jaccard_similarity_score\" , jaccard_similarity_score(y_test,y_SVM_opt_pred))\n",
        "print(\"f1_score\" , f1_score(y_test,y_SVM_opt_pred, average='weighted'))"
      ],
      "execution_count": 24,
      "outputs": [
        {
          "output_type": "stream",
          "text": [
            "SVM's Accuracy: \n",
            "kernel = linear -> acc = 0.7333333333333333\n",
            "kernel = poly -> acc = 0.6666666666666666\n",
            "kernel = rbf -> acc = 0.76\n",
            "kernel = sigmoid -> acc = 0.72\n",
            "jaccard_similarity_score 0.76\n",
            "f1_score 0.7639005439005438\n"
          ],
          "name": "stdout"
        },
        {
          "output_type": "stream",
          "text": [
            "/usr/local/lib/python3.6/dist-packages/sklearn/metrics/_classification.py:664: FutureWarning: jaccard_similarity_score has been deprecated and replaced with jaccard_score. It will be removed in version 0.23. This implementation has surprising behavior for binary and multiclass classification tasks.\n",
            "  FutureWarning)\n"
          ],
          "name": "stderr"
        }
      ]
    },
    {
      "cell_type": "markdown",
      "metadata": {
        "id": "nsZbblK-rWjX",
        "colab_type": "text"
      },
      "source": [
        "\n",
        "#### K Nearest Neighbour"
      ]
    },
    {
      "cell_type": "code",
      "metadata": {
        "id": "8Mi2qm2arilk",
        "colab_type": "code",
        "colab": {
          "base_uri": "https://localhost:8080/",
          "height": 341
        },
        "outputId": "619fb23d-2ade-4de7-feb0-4cc37af90944"
      },
      "source": [
        "from sklearn.metrics import accuracy_score\n",
        "from sklearn.neighbors import KNeighborsClassifier\n",
        "# Implement kNN models for various k and measure the accuracy score for each\n",
        "kNN_acc_score = np.zeros((10))\n",
        "for k in range(1,11):\n",
        "    knn = KNeighborsClassifier(n_neighbors = k).fit(X_train,y_train)\n",
        "    y_kNN_pred = knn.predict(X_test)\n",
        "    kNN_acc_score[k-1] = accuracy_score(y_test, y_kNN_pred)\n",
        "\n",
        "# Print the accuracy score of each kNN model\n",
        "print(\"kNN's Accuracy: \")\n",
        "for k in range(len(kNN_acc_score)):\n",
        "    print(\"k = {0:2d} -> acc = {1:5.2f}%\".format(k+1,100.*kNN_acc_score[k]))\n",
        "\n",
        "# Obtain the optimal k based on accuracy score on the test set and retrieve the corresponding kNN model\n",
        "k_opt = np.argmax(kNN_acc_score) + 1\n",
        "knn_opt = KNeighborsClassifier(n_neighbors = k_opt).fit(X_train,y_train)\n",
        "y_kNN_opt_pred = knn_opt.predict(X_test)\n",
        "\n",
        "print(accuracy_score(y_test,y_kNN_opt_pred))\n",
        "print(\"jaccard_similarity_score\" , jaccard_similarity_score(y_test,y_kNN_opt_pred))\n",
        "print(\"f1_score\" , f1_score(y_test,y_kNN_opt_pred, average='weighted'))"
      ],
      "execution_count": 25,
      "outputs": [
        {
          "output_type": "stream",
          "text": [
            "kNN's Accuracy: \n",
            "k =  1 -> acc = 65.33%\n",
            "k =  2 -> acc = 70.67%\n",
            "k =  3 -> acc = 65.33%\n",
            "k =  4 -> acc = 70.67%\n",
            "k =  5 -> acc = 70.67%\n",
            "k =  6 -> acc = 73.33%\n",
            "k =  7 -> acc = 74.67%\n",
            "k =  8 -> acc = 70.67%\n",
            "k =  9 -> acc = 73.33%\n",
            "k = 10 -> acc = 74.67%\n",
            "0.7466666666666667\n",
            "jaccard_similarity_score 0.7466666666666667\n",
            "f1_score 0.7507005363609138\n"
          ],
          "name": "stdout"
        },
        {
          "output_type": "stream",
          "text": [
            "/usr/local/lib/python3.6/dist-packages/sklearn/metrics/_classification.py:664: FutureWarning: jaccard_similarity_score has been deprecated and replaced with jaccard_score. It will be removed in version 0.23. This implementation has surprising behavior for binary and multiclass classification tasks.\n",
            "  FutureWarning)\n"
          ],
          "name": "stderr"
        }
      ]
    },
    {
      "cell_type": "markdown",
      "metadata": {
        "_cell_guid": "a6bd01a5-a7c6-4f73-9c06-d9c3493a72c0",
        "_uuid": "14faeeb8451c864b4bdf73ca99adef8bca4fb606",
        "id": "vRbEXpTdiG1E",
        "colab_type": "text"
      },
      "source": [
        "\n",
        "#### AdaBoostClassifer"
      ]
    },
    {
      "cell_type": "code",
      "metadata": {
        "_cell_guid": "9a5c474e-d7b9-48bd-8c33-da502fe046f1",
        "_uuid": "2ffa8236665af7abf494142e8103a7dd293b4767",
        "id": "M_U7PptdiG1F",
        "colab_type": "code",
        "outputId": "ac662282-94ce-4bf3-d562-ec71ea3cb1e9",
        "colab": {
          "base_uri": "https://localhost:8080/",
          "height": 132
        }
      },
      "source": [
        "ABC=AdaBoostClassifier()\n",
        "\n",
        "ABC.fit(X_train,y_train)\n",
        "predict=ABC.predict(X_test)\n",
        "print(accuracy_score(y_test,predict))\n",
        "print(\"jaccard_similarity_score\" , jaccard_similarity_score(y_test,predict))\n",
        "print(\"f1_score\" , f1_score(y_test,predict, average='weighted'))\n"
      ],
      "execution_count": 26,
      "outputs": [
        {
          "output_type": "stream",
          "text": [
            "0.68\n",
            "jaccard_similarity_score 0.68\n",
            "f1_score 0.6793833057257577\n"
          ],
          "name": "stdout"
        },
        {
          "output_type": "stream",
          "text": [
            "/usr/local/lib/python3.6/dist-packages/sklearn/metrics/_classification.py:664: FutureWarning: jaccard_similarity_score has been deprecated and replaced with jaccard_score. It will be removed in version 0.23. This implementation has surprising behavior for binary and multiclass classification tasks.\n",
            "  FutureWarning)\n"
          ],
          "name": "stderr"
        }
      ]
    },
    {
      "cell_type": "markdown",
      "metadata": {
        "_cell_guid": "78a22369-7aef-4f6c-9076-a626861a22e3",
        "_uuid": "8701f7b2acaa8681f4f62aec86f5b58a4f89f36c",
        "id": "LaoalK4DiG1H",
        "colab_type": "text"
      },
      "source": [
        "**GridSearch on AdaBoostClassifer**"
      ]
    },
    {
      "cell_type": "code",
      "metadata": {
        "_cell_guid": "0c0988a0-3db5-4a6b-8d7f-127a539f2314",
        "_uuid": "a648e6444201cb1894e118af2dc67b51bb5fed80",
        "id": "ukRINrv0iG1I",
        "colab_type": "code",
        "colab": {}
      },
      "source": [
        "from sklearn.tree import DecisionTreeClassifier\n",
        "n_estimator=[50,60,100,150,200,300]\n",
        "learning_rate=[0.001,0.01,0.1,0.2,]\n",
        "hyperparam={'n_estimators':n_estimator,'learning_rate':learning_rate}\n",
        "gridBoost=GridSearchCV(ABC,param_grid=hyperparam,verbose=False, cv = StratifiedKFold(n_splits=5,random_state=15,shuffle=True), n_jobs=1,scoring='accuracy')"
      ],
      "execution_count": 0,
      "outputs": []
    },
    {
      "cell_type": "code",
      "metadata": {
        "_cell_guid": "f8f83245-7a89-46e8-a86e-4a69b6ca752b",
        "_uuid": "663489f72445a438ad4d0e1707ae286506dfd5a6",
        "id": "74SGZhGXiG1J",
        "colab_type": "code",
        "outputId": "aee4de74-6252-43ab-cff7-18f6d62cd7f4",
        "colab": {
          "base_uri": "https://localhost:8080/",
          "height": 74
        }
      },
      "source": [
        "gridBoost.fit(X_train,y_train)\n",
        "print(gridBoost.best_score_)\n",
        "print(gridBoost.best_estimator_)"
      ],
      "execution_count": 28,
      "outputs": [
        {
          "output_type": "stream",
          "text": [
            "0.6788135593220339\n",
            "AdaBoostClassifier(algorithm='SAMME.R', base_estimator=None, learning_rate=0.2,\n",
            "                   n_estimators=200, random_state=None)\n"
          ],
          "name": "stdout"
        }
      ]
    },
    {
      "cell_type": "code",
      "metadata": {
        "_cell_guid": "ea767975-77a4-4ab0-a539-63da18065ba6",
        "_uuid": "6614ff1861446298d98760ae2fafe5b7b5655593",
        "id": "idAC_02biG1L",
        "colab_type": "code",
        "outputId": "ae271764-fd50-432b-d972-c47909df4543",
        "colab": {
          "base_uri": "https://localhost:8080/",
          "height": 132
        }
      },
      "source": [
        "gridBoost.best_estimator_.fit(X_train,y_train)\n",
        "predict=gridBoost.best_estimator_.predict(X_test)\n",
        "print(accuracy_score(y_test,predict))\n",
        "print(\"jaccard_similarity_score\" , jaccard_similarity_score(y_test,predict))\n",
        "print(\"f1_score\" , f1_score(y_test,predict, average='weighted'))\n"
      ],
      "execution_count": 29,
      "outputs": [
        {
          "output_type": "stream",
          "text": [
            "0.7066666666666667\n",
            "jaccard_similarity_score 0.7066666666666667\n",
            "f1_score 0.7081962093013306\n"
          ],
          "name": "stdout"
        },
        {
          "output_type": "stream",
          "text": [
            "/usr/local/lib/python3.6/dist-packages/sklearn/metrics/_classification.py:664: FutureWarning: jaccard_similarity_score has been deprecated and replaced with jaccard_score. It will be removed in version 0.23. This implementation has surprising behavior for binary and multiclass classification tasks.\n",
            "  FutureWarning)\n"
          ],
          "name": "stderr"
        }
      ]
    },
    {
      "cell_type": "markdown",
      "metadata": {
        "_cell_guid": "44039859-e6ed-4b7f-b8da-1678ccad926d",
        "_uuid": "164f81900d494d0cf5b739b0e61cfff030273282",
        "id": "XTmbADg1iG1M",
        "colab_type": "text"
      },
      "source": [
        "\n",
        "#### XGBClassifier"
      ]
    },
    {
      "cell_type": "code",
      "metadata": {
        "_cell_guid": "cdfce682-2aac-448a-a443-257d70c9d84a",
        "_uuid": "974a1c2aa67c934e44e106516af765ca9f32e204",
        "id": "_ImmNvnIiG1N",
        "colab_type": "code",
        "outputId": "dc8b4dca-05f4-434d-e8cb-e1b1048482b4",
        "colab": {
          "base_uri": "https://localhost:8080/",
          "height": 132
        }
      },
      "source": [
        "xgb=XGBClassifier(max_depth=2, n_estimators=700, learning_rate=0.009,nthread=-1,subsample=1,colsample_bytree=0.8)\n",
        "xgb.fit(X_train,y_train)\n",
        "predict=xgb.predict(X_test)\n",
        "print(accuracy_score(y_test,predict))\n",
        "print(\"jaccard_similarity_score\" , jaccard_similarity_score(y_test,predict))\n",
        "print(\"f1_score\" , f1_score(y_test,predict, average='weighted'))"
      ],
      "execution_count": 30,
      "outputs": [
        {
          "output_type": "stream",
          "text": [
            "0.72\n",
            "jaccard_similarity_score 0.72\n",
            "f1_score 0.7240305892937472\n"
          ],
          "name": "stdout"
        },
        {
          "output_type": "stream",
          "text": [
            "/usr/local/lib/python3.6/dist-packages/sklearn/metrics/_classification.py:664: FutureWarning: jaccard_similarity_score has been deprecated and replaced with jaccard_score. It will be removed in version 0.23. This implementation has surprising behavior for binary and multiclass classification tasks.\n",
            "  FutureWarning)\n"
          ],
          "name": "stderr"
        }
      ]
    },
    {
      "cell_type": "markdown",
      "metadata": {
        "id": "rT7G83a9lZHb",
        "colab_type": "text"
      },
      "source": [
        "\n",
        "#### Random Forest Classifier"
      ]
    },
    {
      "cell_type": "code",
      "metadata": {
        "_cell_guid": "9be95697-a631-458e-821f-3ebb4c3f331a",
        "_uuid": "1f3ba533eb7b73e1f081cb766d41ec1848e6aa83",
        "id": "FUvhLYTRiG1V",
        "colab_type": "code",
        "outputId": "bafe607c-a1f2-464b-82ce-0a8e78168f03",
        "colab": {
          "base_uri": "https://localhost:8080/",
          "height": 189
        }
      },
      "source": [
        "from sklearn.ensemble import RandomForestClassifier\n",
        "randomforest = RandomForestClassifier(n_estimators=100,max_depth=5,min_samples_split=20,max_features=0.2, min_samples_leaf=8,random_state=20)\n",
        "#randomforest = RandomForestClassifier(class_weight='balanced', n_jobs=-1)\n",
        "randomforest.fit(X_train, y_train)\n",
        "y_pred = randomforest.predict(X_test)\n",
        "random_accy = round(accuracy_score(y_pred, y_test), 3)\n",
        "print (random_accy)\n",
        "print(confusion_matrix(y_test,y_pred))\n",
        "print(\"jaccard_similarity_score\" , jaccard_similarity_score(y_test,y_pred))\n",
        "print(\"f1_score\" , f1_score(y_test,y_pred, average='weighted'))\n"
      ],
      "execution_count": 36,
      "outputs": [
        {
          "output_type": "stream",
          "text": [
            "0.747\n",
            "[[22  0  5]\n",
            " [ 0 19  4]\n",
            " [ 4  6 15]]\n",
            "jaccard_similarity_score 0.7466666666666667\n",
            "f1_score 0.7457273349591408\n"
          ],
          "name": "stdout"
        },
        {
          "output_type": "stream",
          "text": [
            "/usr/local/lib/python3.6/dist-packages/sklearn/metrics/_classification.py:664: FutureWarning: jaccard_similarity_score has been deprecated and replaced with jaccard_score. It will be removed in version 0.23. This implementation has surprising behavior for binary and multiclass classification tasks.\n",
            "  FutureWarning)\n"
          ],
          "name": "stderr"
        }
      ]
    },
    {
      "cell_type": "markdown",
      "metadata": {
        "id": "bPBuyAXkZz3V",
        "colab_type": "text"
      },
      "source": [
        "\n",
        "#### Linear Descriminant Analysis (LDA)"
      ]
    },
    {
      "cell_type": "code",
      "metadata": {
        "_cell_guid": "a25392fe-01d6-47f8-9baa-1f07deae733e",
        "_uuid": "ab39cf4b9d920cdc3e6b95a8feb5a14cbee1a7af",
        "id": "fzsbWe6piG1R",
        "colab_type": "code",
        "outputId": "7fb45528-4ce3-4754-da26-4b00f38e23b7",
        "colab": {
          "base_uri": "https://localhost:8080/",
          "height": 132
        }
      },
      "source": [
        "lda=LinearDiscriminantAnalysis()\n",
        "lda.fit(X_train,y_train)\n",
        "predict=lda.predict(X_test)\n",
        "print(accuracy_score(y_test,predict))\n",
        "print(\"jaccard_similarity_score\" , jaccard_similarity_score(y_test,predict))\n",
        "print(\"f1_score\" , f1_score(y_test,predict, average='weighted'))"
      ],
      "execution_count": 33,
      "outputs": [
        {
          "output_type": "stream",
          "text": [
            "0.76\n",
            "jaccard_similarity_score 0.76\n",
            "f1_score 0.7623625685953597\n"
          ],
          "name": "stdout"
        },
        {
          "output_type": "stream",
          "text": [
            "/usr/local/lib/python3.6/dist-packages/sklearn/metrics/_classification.py:664: FutureWarning: jaccard_similarity_score has been deprecated and replaced with jaccard_score. It will be removed in version 0.23. This implementation has surprising behavior for binary and multiclass classification tasks.\n",
            "  FutureWarning)\n"
          ],
          "name": "stderr"
        }
      ]
    },
    {
      "cell_type": "markdown",
      "metadata": {
        "_cell_guid": "cff36b91-8a98-4a22-a4bd-df7904fe1b0b",
        "_uuid": "1932a3680e05bbfb4d49b9033ad7fca97dc1c875",
        "id": "0LIJd_SziG1S",
        "colab_type": "text"
      },
      "source": [
        "\n",
        "#### DecisionTree Classifier"
      ]
    },
    {
      "cell_type": "code",
      "metadata": {
        "_cell_guid": "3fea5cbd-2b65-44b8-b036-aa007d100918",
        "_uuid": "3759d91d097af1da3bf5d6b1193052483a9b9cfd",
        "id": "YVhKj1SYiG1T",
        "colab_type": "code",
        "outputId": "f9d4c913-f637-4dc5-94c8-9991ab86e316",
        "colab": {
          "base_uri": "https://localhost:8080/",
          "height": 189
        }
      },
      "source": [
        "#Decision Tree\n",
        "from sklearn.tree import DecisionTreeClassifier\n",
        "\n",
        "dectree = DecisionTreeClassifier( criterion=\"entropy\",\n",
        "                                 max_depth=5,\n",
        "                                class_weight = 'balanced',\n",
        "                                min_weight_fraction_leaf = 0.009,\n",
        "                                random_state=2000)\n",
        "dectree.fit(X_train, y_train)\n",
        "y_pred = dectree.predict(X_test)\n",
        "dectree_accy = round(accuracy_score(y_pred, y_test), 3)\n",
        "print(dectree_accy)\n",
        "print(confusion_matrix(y_test,y_pred))\n",
        "print(\"jaccard_similarity_score\" , jaccard_similarity_score(y_test,y_pred))\n",
        "print(\"f1_score\" , f1_score(y_test,y_pred, average='weighted'))\n"
      ],
      "execution_count": 34,
      "outputs": [
        {
          "output_type": "stream",
          "text": [
            "0.613\n",
            "[[19  0  8]\n",
            " [ 0 18  5]\n",
            " [ 6 10  9]]\n",
            "jaccard_similarity_score 0.6133333333333333\n",
            "f1_score 0.6072070857803024\n"
          ],
          "name": "stdout"
        },
        {
          "output_type": "stream",
          "text": [
            "/usr/local/lib/python3.6/dist-packages/sklearn/metrics/_classification.py:664: FutureWarning: jaccard_similarity_score has been deprecated and replaced with jaccard_score. It will be removed in version 0.23. This implementation has surprising behavior for binary and multiclass classification tasks.\n",
            "  FutureWarning)\n"
          ],
          "name": "stderr"
        }
      ]
    },
    {
      "cell_type": "markdown",
      "metadata": {
        "_cell_guid": "627a3de7-fa8c-4f79-bfb5-d10c38db0b32",
        "_uuid": "182523756cf2e65355a408d17e2a2a7fbcbc1be0",
        "id": "1-6N6DvaiG1Y",
        "colab_type": "text"
      },
      "source": [
        "\n",
        "#### Bagging Classifier\n"
      ]
    },
    {
      "cell_type": "code",
      "metadata": {
        "_cell_guid": "49d9057f-1b91-4645-98e0-ba7a051a049d",
        "_uuid": "bdb1d5756214b4e67b3cbb8277ab101477224e7e",
        "id": "cXp2jKoViG1a",
        "colab_type": "code",
        "outputId": "549e310b-7e91-42a9-9f81-786a458a280f",
        "colab": {
          "base_uri": "https://localhost:8080/",
          "height": 132
        }
      },
      "source": [
        "from sklearn.ensemble import BaggingClassifier\n",
        "BaggingClassifier = BaggingClassifier()\n",
        "BaggingClassifier.fit(X_train, y_train)\n",
        "y_pred = BaggingClassifier.predict(X_test)\n",
        "bagging_accy = round(accuracy_score(y_pred, y_test), 3)\n",
        "print(bagging_accy)\n",
        "print(\"jaccard_similarity_score\" , jaccard_similarity_score(y_test,y_pred))\n",
        "print(\"f1_score\" , f1_score(y_test,y_pred, average='weighted'))\n"
      ],
      "execution_count": 38,
      "outputs": [
        {
          "output_type": "stream",
          "text": [
            "0.707\n",
            "jaccard_similarity_score 0.7066666666666667\n",
            "f1_score 0.706074074074074\n"
          ],
          "name": "stdout"
        },
        {
          "output_type": "stream",
          "text": [
            "/usr/local/lib/python3.6/dist-packages/sklearn/metrics/_classification.py:664: FutureWarning: jaccard_similarity_score has been deprecated and replaced with jaccard_score. It will be removed in version 0.23. This implementation has surprising behavior for binary and multiclass classification tasks.\n",
            "  FutureWarning)\n"
          ],
          "name": "stderr"
        }
      ]
    },
    {
      "cell_type": "markdown",
      "metadata": {
        "_cell_guid": "fc1485f6-0b8f-440a-a689-c6283c079992",
        "_uuid": "10f1cf8d83a9ce2e1bce5672e61bf19d2a6e1bd7",
        "id": "V-9gYxlPiG2L",
        "colab_type": "text"
      },
      "source": [
        "\n",
        "#### Voting Classifier"
      ]
    },
    {
      "cell_type": "markdown",
      "metadata": {
        "id": "pF7eCF26lxWJ",
        "colab_type": "text"
      },
      "source": [
        "Now lets increate the accuracy on above derived models and by using voting classifier we are increasing accuracy."
      ]
    },
    {
      "cell_type": "code",
      "metadata": {
        "_cell_guid": "bc378611-9e5e-41f5-be64-d1b3da08f90e",
        "_uuid": "a9b2e6195f182d52c8bf4f964f586da2896febbe",
        "id": "agb6F8KTiG2L",
        "colab_type": "code",
        "outputId": "ccd79b5a-b8e6-407d-82bb-a545e7b12cfe",
        "colab": {
          "base_uri": "https://localhost:8080/",
          "height": 36
        }
      },
      "source": [
        "from sklearn.ensemble import VotingClassifier\n",
        "\n",
        "voting_classifier = VotingClassifier(estimators=[\n",
        "      ('logreg',logreg), \n",
        "      ('gausianNB',gausianNB), \n",
        "     ('SVM',svm_opt), \n",
        "    ('randomforest', randomforest),\n",
        "    ('knn_opt', knn_opt),\n",
        "    ('LDA', lda), \n",
        "    ('randomForest', randomForest), \n",
        "    ('XGB Classifier', xgb)])\n",
        "\n",
        "voting_classifier.fit(X_train,y_train)\n",
        "y_pred = voting_classifier.predict(X_test)\n",
        "voting_accy = round(accuracy_score(y_pred, y_test), 3)\n",
        "print(voting_accy)"
      ],
      "execution_count": 42,
      "outputs": [
        {
          "output_type": "stream",
          "text": [
            "0.747\n"
          ],
          "name": "stdout"
        }
      ]
    },
    {
      "cell_type": "markdown",
      "metadata": {
        "_cell_guid": "7e751c61-769f-4011-87cf-c33b6707e5cb",
        "_uuid": "204144a66bfa445087bee6fa61999b32142a9172",
        "id": "LGad9F01iG2w",
        "colab_type": "text"
      },
      "source": [
        "<a id=\"section5\"></a>\n",
        "### 5. Submit test predictions\n"
      ]
    },
    {
      "cell_type": "code",
      "metadata": {
        "_cell_guid": "b3f1a4ee-ac6d-4ffc-992e-f3c18e04776a",
        "_uuid": "e29ea2a49533f555bf91cccc73c832c93a1ce068",
        "id": "_UUwz5KEiG2y",
        "colab_type": "code",
        "colab": {
          "base_uri": "https://localhost:8080/",
          "height": 283
        },
        "outputId": "e5804a68-5a54-4946-bf3d-4758943cd56c"
      },
      "source": [
        "temp = pd.DataFrame(pd.DataFrame({\n",
        "        \"Id\": id,\n",
        "        \"type\": y_pred\n",
        "    }))\n",
        "print(temp)\n"
      ],
      "execution_count": 45,
      "outputs": [
        {
          "output_type": "stream",
          "text": [
            "                        Id    type\n",
            "0   <built-in function id>  Goblin\n",
            "1   <built-in function id>   Ghost\n",
            "2   <built-in function id>   Ghost\n",
            "3   <built-in function id>   Ghoul\n",
            "4   <built-in function id>   Ghoul\n",
            "..                     ...     ...\n",
            "70  <built-in function id>  Goblin\n",
            "71  <built-in function id>  Goblin\n",
            "72  <built-in function id>  Goblin\n",
            "73  <built-in function id>   Ghost\n",
            "74  <built-in function id>   Ghost\n",
            "\n",
            "[75 rows x 2 columns]\n"
          ],
          "name": "stdout"
        }
      ]
    }
  ]
}